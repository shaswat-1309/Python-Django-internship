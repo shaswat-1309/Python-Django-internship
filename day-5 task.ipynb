{
 "cells": [
  {
   "cell_type": "code",
   "execution_count": 1,
   "metadata": {},
   "outputs": [
    {
     "name": "stdout",
     "output_type": "stream",
     "text": [
      "Ans is 60\n"
     ]
    }
   ],
   "source": [
    "#1 creating a class that will calculate sum of three numbers\n",
    "\n",
    "class cal1:\n",
    "    def setdata(self, a, b, c):\n",
    "        self.a = a\n",
    "        self.b = b\n",
    "        self.c = c\n",
    "\n",
    "    def display(self):\n",
    "        self.sum = self.a + self.b + self.c\n",
    "        print(\"Ans is\", self.sum)\n",
    "\n",
    "\n",
    "myc = cal1()\n",
    "myc.setdata(10, 20, 30)\n",
    "myc.display()"
   ]
  },
  {
   "cell_type": "code",
   "execution_count": 2,
   "metadata": {},
   "outputs": [
    {
     "name": "stdout",
     "output_type": "stream",
     "text": [
      "Area of circle is 314.0\n"
     ]
    }
   ],
   "source": [
    "#2 creating a class that will calculate area of circle\n",
    "\n",
    "class cal2:\n",
    "    def setdata(self, r):\n",
    "        self.r = r\n",
    "    def area(self):\n",
    "        self.a = 3.14 * self.r * self.r\n",
    "    def display(self):\n",
    "        print(\"Area of circle is\", self.a)\n",
    "\n",
    "myc2 = cal2()\n",
    "myc2.setdata(10)\n",
    "myc2.area()\n",
    "myc2.display()"
   ]
  },
  {
   "cell_type": "code",
   "execution_count": 3,
   "metadata": {},
   "outputs": [
    {
     "name": "stdout",
     "output_type": "stream",
     "text": [
      "Simple interest is 1250.0\n"
     ]
    }
   ],
   "source": [
    "#3 creating a class that will calculate simple interest\n",
    "\n",
    "class cal3:\n",
    "    def __init__(self, p, r, n):\n",
    "        self.p = p\n",
    "        self.r = r\n",
    "        self.n = n\n",
    "\n",
    "    def callinterest(self):\n",
    "        self.si = (self.p * self.r * self.n)/100\n",
    "\n",
    "    def display(self):\n",
    "        print(\"Simple interest is\", self.si)\n",
    "\n",
    "\n",
    "myc3 = cal3(5000, 5, 5)\n",
    "myc3.callinterest()\n",
    "myc3.display()"
   ]
  },
  {
   "cell_type": "code",
   "execution_count": 4,
   "metadata": {},
   "outputs": [
    {
     "name": "stdout",
     "output_type": "stream",
     "text": [
      "Square of number is 16\n"
     ]
    }
   ],
   "source": [
    "#4 creating a class that will calculate square of a number\n",
    "\n",
    "class cal4:\n",
    "    def setdata(self, n):\n",
    "        self.n = n\n",
    "\n",
    "    def display(self):\n",
    "        return self.n * self.n\n",
    "\n",
    "\n",
    "myc4 = cal4()\n",
    "myc4.setdata(4)\n",
    "ans = myc4.display()\n",
    "print(\"Square of number is\", ans)"
   ]
  },
  {
   "cell_type": "code",
   "execution_count": 5,
   "metadata": {},
   "outputs": [
    {
     "name": "stdout",
     "output_type": "stream",
     "text": [
      "My name is Shaswat and I am the CEO\n",
      "My net worth is 10000000\n"
     ]
    }
   ],
   "source": [
    "#5 creating a class and a subclass and inheriting its relation\n",
    "\n",
    "class employee:\n",
    "    def func1(self, name, designation):\n",
    "        self.name = name\n",
    "        self.designation = designation\n",
    "        print(\"My name is\", self.name, \"and I am the\", self.designation)\n",
    "\n",
    "\n",
    "class sub(employee):\n",
    "    def func2(self, salary):\n",
    "        self.salary = salary\n",
    "        print(\"My net worth is\", self.salary)\n",
    "\n",
    "\n",
    "emp = sub()\n",
    "emp.func1('Shaswat', 'CEO')\n",
    "emp.func2(10000000)"
   ]
  },
  {
   "cell_type": "code",
   "execution_count": 6,
   "metadata": {},
   "outputs": [
    {
     "name": "stdout",
     "output_type": "stream",
     "text": [
      "Area of rectangle is 10\n"
     ]
    }
   ],
   "source": [
    "#6 creating a class that will calculate area of a rectangle\n",
    "\n",
    "class cal5:\n",
    "    def __init__(self, l, b):\n",
    "        self.l = l\n",
    "        self.b = b\n",
    "\n",
    "    def calArea(self):\n",
    "        self.area = self.l * self.b\n",
    "\n",
    "    def display(self):\n",
    "        print(\"Area of rectangle is\", self.area)\n",
    "\n",
    "\n",
    "myc5 = cal5(2, 5)\n",
    "myc5.calArea()\n",
    "myc5.display()"
   ]
  },
  {
   "cell_type": "code",
   "execution_count": 7,
   "metadata": {},
   "outputs": [
    {
     "name": "stdout",
     "output_type": "stream",
     "text": [
      "Area of square is 144\n"
     ]
    }
   ],
   "source": [
    "#7 creating a class that will calculate area of a square\n",
    "\n",
    "class cal6:\n",
    "    def setdata(self, l):\n",
    "        self.l = l\n",
    "\n",
    "    def area(self):\n",
    "        self.a = self.l * self.l\n",
    "\n",
    "    def display(self):\n",
    "        print(\"Area of square is\", self.a)\n",
    "\n",
    "\n",
    "myc6 = cal6()\n",
    "myc6.setdata(12)\n",
    "myc6.area()\n",
    "myc6.display()"
   ]
  },
  {
   "cell_type": "code",
   "execution_count": 8,
   "metadata": {},
   "outputs": [
    {
     "name": "stdout",
     "output_type": "stream",
     "text": [
      "Title is Moonlight\n",
      "Page is 480\n",
      "Title is Moonlight\n",
      "Time for playing is 50\n"
     ]
    }
   ],
   "source": [
    "#8 creating a parent class and two child classes and inheriting its relation\n",
    "\n",
    "class publisher:\n",
    "    def __init__(self, title):\n",
    "        self.title = title\n",
    "        print(\"Title is\", self.title)\n",
    "\n",
    "\n",
    "class book(publisher):\n",
    "    def member(self, pg_no):\n",
    "        self.pg_no = pg_no\n",
    "        print(\"Page is\", self.pg_no)\n",
    "\n",
    "\n",
    "class tape(publisher):\n",
    "    def time(self, playtime):\n",
    "        self.playtime = playtime\n",
    "        print(\"Time for playing is\", self.playtime)\n",
    "\n",
    "\n",
    "d1 = book(\"Moonlight\")\n",
    "d1.member(480)\n",
    "\n",
    "d2 = tape(\"Moonlight\")\n",
    "d2.time(50)"
   ]
  },
  {
   "cell_type": "code",
   "execution_count": 9,
   "metadata": {},
   "outputs": [
    {
     "name": "stdout",
     "output_type": "stream",
     "text": [
      "Scheme id is 101\n",
      "Scheme name is Larava\n",
      "Outgoing rate is 5000\n",
      "Message charge is 5\n",
      "Customer id is 51\n",
      "Name of customer is Ramesh\n",
      "Mobile number is 7878484844\n"
     ]
    }
   ],
   "source": [
    "#9 create classes called scheme and customer and defining necessarly functions to read and display data\n",
    "\n",
    "class scheme:\n",
    "    def __init__(self, scheme_id, scheme_name, outgoing_rate, message_charge):\n",
    "        self.scheme_id = scheme_id\n",
    "        self.scheme_name = scheme_name\n",
    "        self.outhoing_rate = outgoing_rate\n",
    "        self.message_charge = message_charge\n",
    "        print(\"Scheme id is\", self.scheme_id)\n",
    "        print(\"Scheme name is\", self.scheme_name)\n",
    "        print(\"Outgoing rate is\", self.outhoing_rate)\n",
    "        print(\"Message charge is\", self.message_charge)\n",
    "\n",
    "\n",
    "class customer(scheme):\n",
    "    def func1(self, cust_id, name, mobile_no):\n",
    "        self.cust_id = cust_id\n",
    "        self.name = name\n",
    "        self.mobile_no = mobile_no\n",
    "        print(\"Customer id is\", cust_id)\n",
    "        print(\"Name of customer is\", self.name)\n",
    "        print(\"Mobile number is\", self.mobile_no)\n",
    "\n",
    "\n",
    "myc9 = customer(101, \"Larava\", 5000, 5)\n",
    "myc9.func1(51, \"Ramesh\", 7878484844)"
   ]
  },
  {
   "cell_type": "code",
   "execution_count": 10,
   "metadata": {},
   "outputs": [
    {
     "name": "stdout",
     "output_type": "stream",
     "text": [
      "Addition is 30\n",
      "Subtraction is 10\n",
      "Multiplication is 200\n"
     ]
    }
   ],
   "source": [
    "#10 creating an arith class which has parameterized constructor and methods to add, subtract and multiply two numbers\n",
    "\n",
    "class arith:\n",
    "    def __init__(self, a, b):\n",
    "        self.a = a\n",
    "        self.b = b\n",
    "\n",
    "    def add(self):\n",
    "        return self.a + self.b\n",
    "\n",
    "    def subtract(self):\n",
    "        return self.a - self.b\n",
    "\n",
    "    def multiply(self):\n",
    "        return self.a * self.b\n",
    "\n",
    "\n",
    "myc10 = arith(20, 10)\n",
    "addition = myc10.add()\n",
    "subtraction = myc10.subtract()\n",
    "multiplication = myc10.multiply()\n",
    "print(\"Addition is\", addition)\n",
    "print(\"Subtraction is\", subtraction)\n",
    "print(\"Multiplication is\", multiplication)"
   ]
  },
  {
   "cell_type": "code",
   "execution_count": null,
   "metadata": {},
   "outputs": [],
   "source": []
  }
 ],
 "metadata": {
  "kernelspec": {
   "display_name": "Python 3",
   "language": "python",
   "name": "python3"
  },
  "language_info": {
   "codemirror_mode": {
    "name": "ipython",
    "version": 3
   },
   "file_extension": ".py",
   "mimetype": "text/x-python",
   "name": "python",
   "nbconvert_exporter": "python",
   "pygments_lexer": "ipython3",
   "version": "3.8.5"
  }
 },
 "nbformat": 4,
 "nbformat_minor": 4
}
