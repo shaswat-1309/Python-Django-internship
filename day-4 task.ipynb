{
 "cells": [
  {
   "cell_type": "code",
   "execution_count": 1,
   "metadata": {},
   "outputs": [
    {
     "name": "stdout",
     "output_type": "stream",
     "text": [
      "Hello World!\n"
     ]
    }
   ],
   "source": [
    "def myfunc():\n",
    "    print(\"Hello World!\")\n",
    "myfunc()"
   ]
  },
  {
   "cell_type": "code",
   "execution_count": 2,
   "metadata": {},
   "outputs": [
    {
     "name": "stdout",
     "output_type": "stream",
     "text": [
      "Hello World!\n",
      "Name is Shaswat\n"
     ]
    }
   ],
   "source": [
    "def func1(name):\n",
    "    print(\"Hello World!\")\n",
    "    return name\n",
    "n = func1(\"Shaswat\")\n",
    "print(\"Name is\", n)"
   ]
  },
  {
   "cell_type": "code",
   "execution_count": 3,
   "metadata": {},
   "outputs": [
    {
     "name": "stdout",
     "output_type": "stream",
     "text": [
      "Number is 1234\n",
      "Name is Shaswat\n"
     ]
    }
   ],
   "source": [
    "def func2():\n",
    "    n = 1234\n",
    "    name = \"Shaswat\"\n",
    "    return n, name\n",
    "n, name = func2()\n",
    "print(\"Number is\", n)\n",
    "print(\"Name is\", name)"
   ]
  },
  {
   "cell_type": "code",
   "execution_count": 4,
   "metadata": {},
   "outputs": [
    {
     "name": "stdout",
     "output_type": "stream",
     "text": [
      "150\n",
      "130\n"
     ]
    }
   ],
   "source": [
    "def calSum(n1 = 110, n2 = 20):\n",
    "    print(n1+n2)\n",
    "    \n",
    "calSum(50, 100)\n",
    "calSum()"
   ]
  },
  {
   "cell_type": "code",
   "execution_count": 5,
   "metadata": {},
   "outputs": [
    {
     "name": "stdout",
     "output_type": "stream",
     "text": [
      "53\n"
     ]
    }
   ],
   "source": [
    "def calSum(n1, n2):\n",
    "    print(n1+n2)\n",
    "\n",
    "calSum(n2=32, n1=21)"
   ]
  },
  {
   "cell_type": "code",
   "execution_count": 6,
   "metadata": {},
   "outputs": [
    {
     "name": "stdout",
     "output_type": "stream",
     "text": [
      "Ans is 48\n",
      "Ans is 87\n"
     ]
    }
   ],
   "source": [
    "def sum(*n1):\n",
    "    sum = 0\n",
    "    for i in n1:\n",
    "        sum = sum + i\n",
    "    print(\"Ans is\", sum)\n",
    "\n",
    "sum(14, 34)\n",
    "sum(12, 21, 54)"
   ]
  },
  {
   "cell_type": "code",
   "execution_count": 7,
   "metadata": {},
   "outputs": [
    {
     "name": "stdout",
     "output_type": "stream",
     "text": [
      "name Shaswat\n",
      "surname Doshi\n"
     ]
    }
   ],
   "source": [
    "def myfunction(**arg):\n",
    "    for i, j in arg.items():\n",
    "        print(i, j)\n",
    "    \n",
    "    \n",
    "myfunction(name = \"Shaswat\", surname = \"Doshi\")"
   ]
  },
  {
   "cell_type": "code",
   "execution_count": 8,
   "metadata": {},
   "outputs": [
    {
     "name": "stdout",
     "output_type": "stream",
     "text": [
      "12\n",
      "-6\n",
      "27\n",
      "0.3333333333333333\n",
      "19683\n",
      "False\n",
      "True\n",
      "False\n",
      "True\n",
      "0\n"
     ]
    }
   ],
   "source": [
    "x=3\n",
    "y=9\n",
    "print(x + y)\n",
    "print(x - y)\n",
    "print(x * y)\n",
    "print(x / y)\n",
    "print(x ** y)\n",
    "print(x == y)\n",
    "print(x != y)\n",
    "print(x > y)\n",
    "print(x < y)\n",
    "print(x // y)"
   ]
  },
  {
   "cell_type": "code",
   "execution_count": 9,
   "metadata": {},
   "outputs": [
    {
     "name": "stdout",
     "output_type": "stream",
     "text": [
      "c is largest\n"
     ]
    }
   ],
   "source": [
    "a = 3\n",
    "b = 9\n",
    "c = 19\n",
    "if(a > b) and (a > c):\n",
    "    print(\"a is largest\")\n",
    "elif(b > a) and (b > c):\n",
    "    print(\"b is largest\")\n",
    "else:\n",
    "    print(\"c is largest\")"
   ]
  },
  {
   "cell_type": "code",
   "execution_count": 10,
   "metadata": {},
   "outputs": [
    {
     "name": "stdout",
     "output_type": "stream",
     "text": [
      "Enter character:z\n",
      "z is consonant\n"
     ]
    }
   ],
   "source": [
    "c = input(\"Enter character:\")\n",
    "c = c.lower()\n",
    "if(c==\"a\" or c==\"e\" or c==\"i\" or c==\"o\" or c=='u'):\n",
    "    print(c,\"is vowel\")\n",
    "else:\n",
    "    print(c,\"is consonant\")"
   ]
  },
  {
   "cell_type": "code",
   "execution_count": 11,
   "metadata": {},
   "outputs": [
    {
     "name": "stdout",
     "output_type": "stream",
     "text": [
      "False\n",
      "True\n",
      "True\n",
      "False\n"
     ]
    }
   ],
   "source": [
    "li = [1, 2, 3]\n",
    "x=8\n",
    "y=2\n",
    "print(x in li)\n",
    "print(y in li)\n",
    "print(x not in li)\n",
    "print(y not in li)"
   ]
  },
  {
   "cell_type": "code",
   "execution_count": 12,
   "metadata": {},
   "outputs": [
    {
     "name": "stdout",
     "output_type": "stream",
     "text": [
      "False\n",
      "True\n",
      "False\n"
     ]
    }
   ],
   "source": [
    "x = 5\n",
    "y = 2\n",
    "z = 5\n",
    "print(x is y)\n",
    "print(x is z)\n",
    "print(x is not z)"
   ]
  },
  {
   "cell_type": "code",
   "execution_count": null,
   "metadata": {},
   "outputs": [],
   "source": []
  }
 ],
 "metadata": {
  "kernelspec": {
   "display_name": "Python 3",
   "language": "python",
   "name": "python3"
  },
  "language_info": {
   "codemirror_mode": {
    "name": "ipython",
    "version": 3
   },
   "file_extension": ".py",
   "mimetype": "text/x-python",
   "name": "python",
   "nbconvert_exporter": "python",
   "pygments_lexer": "ipython3",
   "version": "3.8.5"
  }
 },
 "nbformat": 4,
 "nbformat_minor": 4
}
