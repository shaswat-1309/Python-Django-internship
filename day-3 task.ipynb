{
 "cells": [
  {
   "cell_type": "code",
   "execution_count": 1,
   "metadata": {},
   "outputs": [
    {
     "name": "stdout",
     "output_type": "stream",
     "text": [
      "Enter number: 1\n",
      "Enter number: 5\n",
      "Enter number: 8\n",
      "Enter number: 9\n",
      "Enter number: 4\n",
      "5.4\n"
     ]
    }
   ],
   "source": [
    "#1 average of 5 numbers\n",
    "\n",
    "i = 0\n",
    "list = []\n",
    "while(i < 5):\n",
    "    n = int(input('Enter number: '))\n",
    "    list.append(n)\n",
    "    i += 1\n",
    "\n",
    "sum = 0\n",
    "for n in list:\n",
    "    sum += n\n",
    "\n",
    "avg = sum/5\n",
    "print(avg)\n"
   ]
  },
  {
   "cell_type": "code",
   "execution_count": 2,
   "metadata": {},
   "outputs": [
    {
     "name": "stdout",
     "output_type": "stream",
     "text": [
      "Enter number: 7\n",
      "Number is odd!!!\n"
     ]
    }
   ],
   "source": [
    "#2 check whether number is even or odd\n",
    "\n",
    "n = int(input('Enter number: '))\n",
    "\n",
    "if n % 2 == 0:\n",
    "    print('Number is even!!!')\n",
    "\n",
    "else:\n",
    "    print('Number is odd!!!')"
   ]
  },
  {
   "cell_type": "code",
   "execution_count": 3,
   "metadata": {},
   "outputs": [
    {
     "name": "stdout",
     "output_type": "stream",
     "text": [
      "Enter a year: 2000\n",
      "It is a leap year\n"
     ]
    }
   ],
   "source": [
    "#3 check whether it is leap year or not\n",
    "\n",
    "n = int(input(\"Enter a year: \"))\n",
    "if (n % 4) == 0:\n",
    "    if (n % 100) == 0:\n",
    "        if (n % 400) == 0:\n",
    "            print(\"It is a leap year\")\n",
    "        else:\n",
    "            print(\"It is not a leap year\")\n",
    "    else:\n",
    "        print(\"It is a leap year\")\n",
    "else:\n",
    "    print(\"It is not a leap year\")"
   ]
  },
  {
   "cell_type": "code",
   "execution_count": 4,
   "metadata": {},
   "outputs": [
    {
     "name": "stdout",
     "output_type": "stream",
     "text": [
      "Enter a number: 0\n",
      "Number is Zero\n"
     ]
    }
   ],
   "source": [
    "#4 check whether number is positive, negative or zero\n",
    "\n",
    "n = int(input(\"Enter a number: \"))\n",
    "if n > 0:\n",
    "    print(\"Number is Positive\")\n",
    "elif n == 0:\n",
    "    print(\"Number is Zero\")\n",
    "else:\n",
    "    print(\"Number is Negative\")"
   ]
  },
  {
   "cell_type": "code",
   "execution_count": 5,
   "metadata": {},
   "outputs": [
    {
     "name": "stdout",
     "output_type": "stream",
     "text": [
      "Enter first number: 7\n",
      "Enter second number: 6\n",
      "7 is greater\n"
     ]
    }
   ],
   "source": [
    "#5 find which number is greater\n",
    "\n",
    "a = int(input(\"Enter first number: \"))\n",
    "b = int(input(\"Enter second number: \"))\n",
    "if(a == b):\n",
    "    print(\"Both are equal\")\n",
    "elif(a >= b):\n",
    "    print(a, \"is greater\")\n",
    "else:\n",
    "    print(b, \"is greater\")"
   ]
  },
  {
   "cell_type": "code",
   "execution_count": 6,
   "metadata": {},
   "outputs": [
    {
     "name": "stdout",
     "output_type": "stream",
     "text": [
      "Enter a number: 4\n",
      "The factorial of 4 is 24\n"
     ]
    }
   ],
   "source": [
    "#6 find factorial of given number\n",
    "\n",
    "n = int(input(\"Enter a number: \"))\n",
    "\n",
    "fact = 1\n",
    "\n",
    "if n < 0:\n",
    "    print(\"Sorry, factorial does not exist for negative numbers\")\n",
    "elif n == 0:\n",
    "    print(\"The factorial of 0 is 1\")\n",
    "else:\n",
    "    for i in range(1, n + 1):\n",
    "        fact = fact*i\n",
    "    print(\"The factorial of\", n, \"is\", fact)"
   ]
  },
  {
   "cell_type": "code",
   "execution_count": 7,
   "metadata": {},
   "outputs": [
    {
     "name": "stdout",
     "output_type": "stream",
     "text": [
      "Enter value of a: 4\n",
      "Enter value of b: 7\n",
      "The value of a after swapping: 7\n",
      "The value of b after swapping: 4\n"
     ]
    }
   ],
   "source": [
    "#7 swap two numbers using third variable\n",
    "\n",
    "a = input(\"Enter value of a: \")\n",
    "b = input(\"Enter value of b: \")\n",
    "\n",
    "temp = a\n",
    "a = b\n",
    "b = temp\n",
    "\n",
    "print(\"The value of a after swapping: {}\".format(a))\n",
    "print(\"The value of b after swapping: {}\".format(b))"
   ]
  },
  {
   "cell_type": "code",
   "execution_count": 8,
   "metadata": {},
   "outputs": [
    {
     "name": "stdout",
     "output_type": "stream",
     "text": [
      "Enter first number: 6\n",
      "Enter second number: 1\n",
      "1 is smaller\n"
     ]
    }
   ],
   "source": [
    "#8 find which number is smaller\n",
    "\n",
    "a = int(input(\"Enter first number: \"))\n",
    "b = int(input(\"Enter second number: \"))\n",
    "if(a <= b):\n",
    "    print(a, \"is smaller\")\n",
    "else:\n",
    "    print(b, \"is smaller\")"
   ]
  },
  {
   "cell_type": "code",
   "execution_count": 9,
   "metadata": {},
   "outputs": [
    {
     "name": "stdout",
     "output_type": "stream",
     "text": [
      "Enter a number: 101\n",
      "Number is greater than 100\n"
     ]
    }
   ],
   "source": [
    "#9 checking if number is less than 100 or not and if less than 100 then finding whether it is odd or even\n",
    "\n",
    "n = int(input(\"Enter a number: \"))\n",
    "\n",
    "if(n < 100):\n",
    "    if(n % 2 == 0):\n",
    "        print(\"Number is even\")\n",
    "    else:\n",
    "        print(\"Number is odd\")\n",
    "else:\n",
    "    print(\"Number is greater than 100\")"
   ]
  },
  {
   "cell_type": "code",
   "execution_count": 10,
   "metadata": {},
   "outputs": [
    {
     "name": "stdout",
     "output_type": "stream",
     "text": [
      "Enter a number: 7\n",
      "Square of 7 is 49\n"
     ]
    }
   ],
   "source": [
    "#10 print square of number if number is less than 10\n",
    "\n",
    "n = int(input(\"Enter a number: \"))\n",
    "\n",
    "if(n < 10):\n",
    "    sq = n*n\n",
    "    print(\"Square of\", n, \"is\", sq)\n",
    "else:\n",
    "    print(\"Number is greater than 10\")"
   ]
  },
  {
   "cell_type": "code",
   "execution_count": 11,
   "metadata": {},
   "outputs": [
    {
     "name": "stdout",
     "output_type": "stream",
     "text": [
      "Enter a number: -1\n",
      "Number is Negative\n"
     ]
    }
   ],
   "source": [
    "#11 check whether number is positive, negative or zero using nested if....else statements\n",
    "\n",
    "n = int(input(\"Enter a number: \"))\n",
    "if n >= 0:\n",
    "    if n == 0:\n",
    "        print(\"Number is Zero\")\n",
    "    else:\n",
    "        print(\"Number is Positive\")\n",
    "else:\n",
    "    print(\"Number is Negative\")"
   ]
  },
  {
   "cell_type": "code",
   "execution_count": 13,
   "metadata": {},
   "outputs": [
    {
     "name": "stdout",
     "output_type": "stream",
     "text": [
      "Enter a: 2\n",
      "Enter b: 5\n",
      "Enter c: 1\n",
      "b is greatest\n"
     ]
    }
   ],
   "source": [
    "#12 find greatest number among 3 numbers using nested if....else statements\n",
    "\n",
    "a = int(input(\"Enter a: \"))\n",
    "b = int(input(\"Enter b: \"))\n",
    "c = int(input(\"Enter c: \"))\n",
    "\n",
    "if(a > b):\n",
    "    if(a > c):\n",
    "        print(\"a is greatest\")\n",
    "    else:\n",
    "        print(\"c is greatest\")\n",
    "else:\n",
    "    print(\"b is greatest\")"
   ]
  },
  {
   "cell_type": "code",
   "execution_count": 14,
   "metadata": {},
   "outputs": [
    {
     "name": "stdout",
     "output_type": "stream",
     "text": [
      "Enter a : 7\n",
      "Enter b : 4\n",
      "Enter c : 9\n",
      "4 is the smallest of three numbers.\n"
     ]
    }
   ],
   "source": [
    "#13 find smallest number among 3 numbers using logical operator\n",
    "\n",
    "a = int(input('Enter a : '))\n",
    "b = int(input('Enter b : '))\n",
    "c = int(input('Enter c : '))\n",
    "\n",
    "smallest = 0\n",
    "\n",
    "if a < b and a < c:\n",
    "    smallest = a\n",
    "elif b < c:\n",
    "    smallest = b\n",
    "else:\n",
    "    smallest = c\n",
    "\n",
    "print(smallest, \"is the smallest of three numbers.\")"
   ]
  },
  {
   "cell_type": "code",
   "execution_count": 15,
   "metadata": {},
   "outputs": [
    {
     "name": "stdout",
     "output_type": "stream",
     "text": [
      "Enter x : 9\n",
      "Enter y : 1\n",
      "After Swapping: x = 1  y = 9\n"
     ]
    }
   ],
   "source": [
    "#14 swap two numbers without using third variable\n",
    "\n",
    "x = int(input('Enter x : '))\n",
    "y = int(input('Enter y : '))\n",
    "\n",
    "x = x + y\n",
    "y = x - y\n",
    "x = x - y\n",
    "print(\"After Swapping: x =\", x, \" y =\", y)"
   ]
  },
  {
   "cell_type": "code",
   "execution_count": 16,
   "metadata": {},
   "outputs": [
    {
     "name": "stdout",
     "output_type": "stream",
     "text": [
      "Enter first term: 25\n",
      "Enter last term: 1\n",
      "25\n",
      "22\n",
      "19\n",
      "16\n",
      "13\n",
      "10\n",
      "7\n",
      "4\n",
      "1\n"
     ]
    }
   ],
   "source": [
    "#15 print series from given starting number and ending number\n",
    "\n",
    "a = int(input(\"Enter first term: \"))\n",
    "l = int(input(\"Enter last term: \"))\n",
    "\n",
    "for i in range(a, l-1, -3):\n",
    "    print(i)"
   ]
  },
  {
   "cell_type": "code",
   "execution_count": null,
   "metadata": {},
   "outputs": [],
   "source": []
  }
 ],
 "metadata": {
  "kernelspec": {
   "display_name": "Python 3",
   "language": "python",
   "name": "python3"
  },
  "language_info": {
   "codemirror_mode": {
    "name": "ipython",
    "version": 3
   },
   "file_extension": ".py",
   "mimetype": "text/x-python",
   "name": "python",
   "nbconvert_exporter": "python",
   "pygments_lexer": "ipython3",
   "version": "3.8.5"
  }
 },
 "nbformat": 4,
 "nbformat_minor": 4
}
